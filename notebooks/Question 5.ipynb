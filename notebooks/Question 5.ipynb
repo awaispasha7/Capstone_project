{
    "cells": [
        {
            "cell_type": "markdown",
            "metadata": {},
            "source": [
                "# Lab 5: PyTorch CNN Classifier\n",
                "\n",
                "## AI Capstone Project with Deep Learning\n",
                "\n",
                "This lab focuses on building, training, and evaluating a CNN classifier using PyTorch for agricultural land classification.\n",
                "\n",
                "### Tasks:\n",
                "1. Explain the usefulness of random initialization\n",
                "2. Define train_transform pipeline\n",
                "3. Define the val_transform pipeline\n",
                "4. Create val_loader for the validation dataset\n",
                "5. Purpose of tqdm\n",
                "6. Explain why train_loss, train_correct, and train_total are reset every epoch\n",
                "7. Why use torch.no_grad() in the validation loop?\n",
                "8. List two metrics used to evaluate training performance\n",
                "9. Plot model training loss\n",
                "10. Retrieve predictions all_preds and ground truth all_labels from val_loader"
            ]
        },
        {
            "cell_type": "code",
            "execution_count": 9,
            "metadata": {},
            "outputs": [
                {
                    "name": "stdout",
                    "output_type": "stream",
                    "text": [
                        "PyTorch imports successful!\n",
                        "PyTorch version: 2.8.0+cpu\n",
                        "CUDA available: False\n",
                        "Device: cpu\n"
                    ]
                }
            ],
            "source": [
                "# Import necessary libraries\n",
                "import torch\n",
                "import torch.nn as nn\n",
                "import torch.optim as optim\n",
                "from torch.utils.data import DataLoader, Dataset\n",
                "import torchvision\n",
                "from torchvision import datasets, transforms\n",
                "import numpy as np\n",
                "import matplotlib.pyplot as plt\n",
                "import os\n",
                "from PIL import Image\n",
                "import glob\n",
                "import random\n",
                "from sklearn.metrics import accuracy_score, classification_report\n",
                "from tqdm import tqdm\n",
                "\n",
                "print(\"PyTorch imports successful!\")\n",
                "print(f\"PyTorch version: {torch.__version__}\")\n",
                "print(f\"CUDA available: {torch.cuda.is_available()}\")\n",
                "print(f\"Device: {'cuda' if torch.cuda.is_available() else 'cpu'}\")"
            ]
        },
        {
            "cell_type": "code",
            "execution_count": 10,
            "metadata": {},
            "outputs": [
                {
                    "name": "stdout",
                    "output_type": "stream",
                    "text": [
                        "Sample data created successfully!\n"
                    ]
                }
            ],
            "source": [
                "# Create sample data for demonstration\n",
                "def create_sample_data():\n",
                "    # Create directories\n",
                "    os.makedirs('./images_dataSAT/class_0_non_agri', exist_ok=True)\n",
                "    os.makedirs('./images_dataSAT/class_1_agri', exist_ok=True)\n",
                "    \n",
                "    # Create non-agricultural images (class 0)\n",
                "    for i in range(20):\n",
                "        img = np.zeros((64, 64, 3), dtype=np.uint8)\n",
                "        if i < 10:\n",
                "            # Urban areas\n",
                "            img[:, :] = [60, 60, 60]\n",
                "            for x in range(0, 64, 16):\n",
                "                for y in range(0, 64, 16):\n",
                "                    if np.random.random() > 0.3:\n",
                "                        img[y:y+12, x:x+12] = [80, 80, 80]\n",
                "            img[30:34, :] = [40, 40, 40]\n",
                "            img[:, 30:34] = [40, 40, 40]\n",
                "        else:\n",
                "            # Forest areas\n",
                "            img[:, :] = [30, 60, 30]\n",
                "            for x in range(0, 64, 8):\n",
                "                for y in range(0, 64, 8):\n",
                "                    if np.random.random() > 0.4:\n",
                "                        img[y:y+6, x:x+6] = [20, 80, 20]\n",
                "        \n",
                "        noise = np.random.randint(-20, 20, (64, 64, 3))\n",
                "        img = np.clip(img.astype(np.int16) + noise, 0, 255).astype(np.uint8)\n",
                "        Image.fromarray(img).save(f'./images_dataSAT/class_0_non_agri/non_agri_{i:03d}.png')\n",
                "    \n",
                "    # Create agricultural images (class 1)\n",
                "    for i in range(25):\n",
                "        img = np.zeros((64, 64, 3), dtype=np.uint8)\n",
                "        if i < 8:  # Wheat/Barley fields\n",
                "            img[:, :] = [139, 69, 19]\n",
                "            for y in range(0, 64, 6):\n",
                "                if y % 12 < 6:\n",
                "                    img[y:y+3, :] = [34, 139, 34]\n",
                "                    img[y+1:y+2, :] = [218, 165, 32]\n",
                "        elif i < 16:  # Corn fields\n",
                "            img[:, :] = [101, 67, 33]\n",
                "            for y in range(0, 64, 8):\n",
                "                if y % 16 < 8:\n",
                "                    img[y:y+4, :] = [0, 100, 0]\n",
                "                    img[y+2:y+3, :] = [0, 128, 0]\n",
                "        else:  # Rice fields\n",
                "            img[:, :] = [160, 82, 45]\n",
                "            for y in range(0, 64, 4):\n",
                "                if y % 8 < 4:\n",
                "                    img[y:y+2, :] = [0, 255, 0]\n",
                "                    img[y+1:y+2, :] = [0, 200, 100]\n",
                "        \n",
                "        variation = np.random.randint(-10, 10, (64, 64, 3))\n",
                "        img = np.clip(img.astype(np.int16) + variation, 0, 255).astype(np.uint8)\n",
                "        Image.fromarray(img).save(f'./images_dataSAT/class_1_agri/agri_{i:03d}.png')\n",
                "    \n",
                "    print(\"Sample data created successfully!\")\n",
                "\n",
                "# Create sample data\n",
                "create_sample_data()"
            ]
        },
        {
            "cell_type": "markdown",
            "metadata": {},
            "source": [
                "## Task 1: Explain the usefulness of random initialization"
            ]
        },
        {
            "cell_type": "code",
            "execution_count": 11,
            "metadata": {},
            "outputs": [
                {
                    "name": "stdout",
                    "output_type": "stream",
                    "text": [
                        "Task 1: Explain the usefulness of random initialization\n",
                        "\n",
                        "Random initialization is crucial in neural networks for several reasons:\n",
                        "\n",
                        "1. SYMMETRY BREAKING:\n",
                        "   - If all weights start with the same value (e.g., zeros), all neurons in a layer\n",
                        "     would compute the same function during forward pass\n",
                        "   - This leads to identical gradients during backpropagation\n",
                        "   - All neurons would update in the same way, making them redundant\n",
                        "\n",
                        "2. GRADIENT FLOW:\n",
                        "   - Random initialization helps maintain proper gradient flow\n",
                        "   - Prevents vanishing or exploding gradients in deep networks\n",
                        "   - Ensures each layer contributes meaningfully to learning\n",
                        "\n",
                        "3. EXPLORATION OF PARAMETER SPACE:\n",
                        "   - Random starting points allow the network to explore different regions\n",
                        "   - Increases chances of finding good local minima\n",
                        "   - Prevents getting stuck in poor local minima\n",
                        "\n",
                        "4. COMMON INITIALIZATION METHODS:\n",
                        "   - Xavier/Glorot initialization: Good for tanh and sigmoid activations\n",
                        "   - He initialization: Better for ReLU activations\n",
                        "   - PyTorch uses these by default in most layers\n"
                    ]
                }
            ],
            "source": [
                "# Task 1: Explain the usefulness of random initialization\n",
                "print(\"Task 1: Explain the usefulness of random initialization\")\n",
                "print(\"\\nRandom initialization is crucial in neural networks for several reasons:\")\n",
                "print(\"\\n1. SYMMETRY BREAKING:\")\n",
                "print(\"   - If all weights start with the same value (e.g., zeros), all neurons in a layer\")\n",
                "print(\"     would compute the same function during forward pass\")\n",
                "print(\"   - This leads to identical gradients during backpropagation\")\n",
                "print(\"   - All neurons would update in the same way, making them redundant\")\n",
                "print(\"\\n2. GRADIENT FLOW:\")\n",
                "print(\"   - Random initialization helps maintain proper gradient flow\")\n",
                "print(\"   - Prevents vanishing or exploding gradients in deep networks\")\n",
                "print(\"   - Ensures each layer contributes meaningfully to learning\")\n",
                "print(\"\\n3. EXPLORATION OF PARAMETER SPACE:\")\n",
                "print(\"   - Random starting points allow the network to explore different regions\")\n",
                "print(\"   - Increases chances of finding good local minima\")\n",
                "print(\"   - Prevents getting stuck in poor local minima\")\n",
                "print(\"\\n4. COMMON INITIALIZATION METHODS:\")\n",
                "print(\"   - Xavier/Glorot initialization: Good for tanh and sigmoid activations\")\n",
                "print(\"   - He initialization: Better for ReLU activations\")\n",
                "print(\"   - PyTorch uses these by default in most layers\")"
            ]
        },
        {
            "cell_type": "markdown",
            "metadata": {},
            "source": [
                "## Task 2: Define train_transform pipeline"
            ]
        },
        {
            "cell_type": "code",
            "execution_count": 12,
            "metadata": {},
            "outputs": [
                {
                    "name": "stdout",
                    "output_type": "stream",
                    "text": [
                        "Task 2: Define train_transform pipeline\n",
                        "Training transform pipeline defined:\n",
                        "1. Resize to 64x64 pixels\n",
                        "2. Random horizontal flip (50% probability)\n",
                        "3. Random vertical flip (30% probability)\n",
                        "4. Random rotation (±30 degrees)\n",
                        "5. Color jitter (brightness, contrast, saturation, hue)\n",
                        "6. Random affine transformation (translation, scaling)\n",
                        "7. Convert to tensor\n",
                        "8. Normalize with ImageNet statistics\n"
                    ]
                }
            ],
            "source": [
                "# Task 2: Define train_transform pipeline\n",
                "print(\"Task 2: Define train_transform pipeline\")\n",
                "\n",
                "train_transform = transforms.Compose([\n",
                "    transforms.Resize((64, 64)),  # Resize to 64x64\n",
                "    transforms.RandomHorizontalFlip(p=0.5),  # Random horizontal flip\n",
                "    transforms.RandomVerticalFlip(p=0.3),  # Random vertical flip\n",
                "    transforms.RandomRotation(degrees=30),  # Random rotation up to 30 degrees\n",
                "    transforms.ColorJitter(brightness=0.2, contrast=0.2, saturation=0.2, hue=0.1),  # Color augmentation\n",
                "    transforms.RandomAffine(degrees=0, translate=(0.1, 0.1), scale=(0.9, 1.1)),  # Geometric augmentation\n",
                "    transforms.ToTensor(),  # Convert to tensor\n",
                "    transforms.Normalize(mean=[0.485, 0.456, 0.406], std=[0.229, 0.224, 0.225])  # ImageNet normalization\n",
                "])\n",
                "\n",
                "print(\"Training transform pipeline defined:\")\n",
                "print(\"1. Resize to 64x64 pixels\")\n",
                "print(\"2. Random horizontal flip (50% probability)\")\n",
                "print(\"3. Random vertical flip (30% probability)\")\n",
                "print(\"4. Random rotation (±30 degrees)\")\n",
                "print(\"5. Color jitter (brightness, contrast, saturation, hue)\")\n",
                "print(\"6. Random affine transformation (translation, scaling)\")\n",
                "print(\"7. Convert to tensor\")\n",
                "print(\"8. Normalize with ImageNet statistics\")"
            ]
        },
        {
            "cell_type": "markdown",
            "metadata": {},
            "source": [
                "## Task 3: Define the val_transform pipeline"
            ]
        },
        {
            "cell_type": "code",
            "execution_count": 13,
            "metadata": {},
            "outputs": [
                {
                    "name": "stdout",
                    "output_type": "stream",
                    "text": [
                        "Task 3: Define val_transform pipeline\n",
                        "Validation transform pipeline defined:\n",
                        "1. Resize to 64x64 pixels\n",
                        "2. Convert to tensor\n",
                        "3. Normalize with ImageNet statistics\n",
                        "\n",
                        "Note: No data augmentation for validation to ensure consistent evaluation\n"
                    ]
                }
            ],
            "source": [
                "# Task 3: Define the val_transform pipeline\n",
                "print(\"Task 3: Define val_transform pipeline\")\n",
                "\n",
                "val_transform = transforms.Compose([\n",
                "    transforms.Resize((64, 64)),  # Resize to 64x64\n",
                "    transforms.ToTensor(),  # Convert to tensor\n",
                "    transforms.Normalize(mean=[0.485, 0.456, 0.406], std=[0.229, 0.224, 0.225])  # ImageNet normalization\n",
                "])\n",
                "\n",
                "print(\"Validation transform pipeline defined:\")\n",
                "print(\"1. Resize to 64x64 pixels\")\n",
                "print(\"2. Convert to tensor\")\n",
                "print(\"3. Normalize with ImageNet statistics\")\n",
                "print(\"\\nNote: No data augmentation for validation to ensure consistent evaluation\")"
            ]
        },
        {
            "cell_type": "markdown",
            "metadata": {},
            "source": [
                "## Task 4: Create val_loader for the validation dataset"
            ]
        },
        {
            "cell_type": "code",
            "execution_count": 14,
            "metadata": {},
            "outputs": [
                {
                    "name": "stdout",
                    "output_type": "stream",
                    "text": [
                        "Task 4: Create val_loader for validation dataset\n",
                        "Validation dataset created successfully!\n",
                        "Total dataset size: 45\n",
                        "Training samples: 36\n",
                        "Validation samples: 9\n",
                        "Validation batches: 2\n",
                        "Batch size: 8\n"
                    ]
                }
            ],
            "source": [
                "# Task 4: Create val_loader for the validation dataset\n",
                "print(\"Task 4: Create val_loader for validation dataset\")\n",
                "\n",
                "# Load validation dataset\n",
                "val_dataset = datasets.ImageFolder(\n",
                "    root='./images_dataSAT',\n",
                "    transform=val_transform\n",
                ")\n",
                "\n",
                "# Split dataset into train and validation (80/20 split)\n",
                "dataset_size = len(val_dataset)\n",
                "val_size = int(0.2 * dataset_size)\n",
                "train_size = dataset_size - val_size\n",
                "\n",
                "train_dataset, val_dataset = torch.utils.data.random_split(\n",
                "    val_dataset, [train_size, val_size],\n",
                "    generator=torch.Generator().manual_seed(42)\n",
                ")\n",
                "\n",
                "# Apply different transforms to train and validation\n",
                "train_dataset.dataset.transform = train_transform\n",
                "val_dataset.dataset.transform = val_transform\n",
                "\n",
                "# Create validation data loader\n",
                "val_loader = DataLoader(\n",
                "    val_dataset,\n",
                "    batch_size=8,\n",
                "    shuffle=False,  # No shuffling for validation\n",
                "    num_workers=0\n",
                ")\n",
                "\n",
                "print(f\"Validation dataset created successfully!\")\n",
                "print(f\"Total dataset size: {dataset_size}\")\n",
                "print(f\"Training samples: {train_size}\")\n",
                "print(f\"Validation samples: {val_size}\")\n",
                "print(f\"Validation batches: {len(val_loader)}\")\n",
                "print(f\"Batch size: 8\")"
            ]
        },
        {
            "cell_type": "markdown",
            "metadata": {},
            "source": [
                "## Task 5: Purpose of tqdm"
            ]
        },
        {
            "cell_type": "code",
            "execution_count": 15,
            "metadata": {},
            "outputs": [
                {
                    "name": "stdout",
                    "output_type": "stream",
                    "text": [
                        "Task 5: Purpose of tqdm\n",
                        "\n",
                        "tqdm (taqaddum - Arabic for 'progress') is a Python library that provides:\n",
                        "\n",
                        "1. PROGRESS BARS:\n",
                        "   - Visual progress indicators for loops and iterations\n",
                        "   - Shows current progress, percentage complete, and estimated time remaining\n",
                        "   - Makes long-running processes more user-friendly\n",
                        "\n",
                        "2. TRAINING MONITORING:\n",
                        "   - Essential for monitoring neural network training progress\n",
                        "   - Shows epoch progress, batch progress, and training metrics\n",
                        "   - Helps identify if training is progressing normally\n",
                        "\n",
                        "3. PERFORMANCE INSIGHTS:\n",
                        "   - Displays processing speed (iterations per second)\n",
                        "   - Shows estimated time to completion\n",
                        "   - Helps optimize training parameters\n",
                        "\n",
                        "4. EXAMPLE USAGE:\n",
                        "   for epoch in tqdm(range(num_epochs), desc='Training'):\n",
                        "       for batch in tqdm(train_loader, desc=f'Epoch {epoch}'):\n",
                        "           # Training code here\n",
                        "\n",
                        "5. BENEFITS:\n",
                        "   - Improves user experience during long training sessions\n",
                        "   - Provides real-time feedback on training progress\n",
                        "   - Helps debug training issues by showing progress patterns\n"
                    ]
                }
            ],
            "source": [
                "# Task 5: Purpose of tqdm\n",
                "print(\"Task 5: Purpose of tqdm\")\n",
                "print(\"\\ntqdm (taqaddum - Arabic for 'progress') is a Python library that provides:\")\n",
                "print(\"\\n1. PROGRESS BARS:\")\n",
                "print(\"   - Visual progress indicators for loops and iterations\")\n",
                "print(\"   - Shows current progress, percentage complete, and estimated time remaining\")\n",
                "print(\"   - Makes long-running processes more user-friendly\")\n",
                "print(\"\\n2. TRAINING MONITORING:\")\n",
                "print(\"   - Essential for monitoring neural network training progress\")\n",
                "print(\"   - Shows epoch progress, batch progress, and training metrics\")\n",
                "print(\"   - Helps identify if training is progressing normally\")\n",
                "print(\"\\n3. PERFORMANCE INSIGHTS:\")\n",
                "print(\"   - Displays processing speed (iterations per second)\")\n",
                "print(\"   - Shows estimated time to completion\")\n",
                "print(\"   - Helps optimize training parameters\")\n",
                "print(\"\\n4. EXAMPLE USAGE:\")\n",
                "print(\"   for epoch in tqdm(range(num_epochs), desc='Training'):\")\n",
                "print(\"       for batch in tqdm(train_loader, desc=f'Epoch {epoch}'):\")\n",
                "print(\"           # Training code here\")\n",
                "print(\"\\n5. BENEFITS:\")\n",
                "print(\"   - Improves user experience during long training sessions\")\n",
                "print(\"   - Provides real-time feedback on training progress\")\n",
                "print(\"   - Helps debug training issues by showing progress patterns\")"
            ]
        },
        {
            "cell_type": "markdown",
            "metadata": {},
            "source": [
                "## Task 6: Explain why train_loss, train_correct, and train_total are reset every epoch"
            ]
        },
        {
            "cell_type": "code",
            "execution_count": 16,
            "metadata": {},
            "outputs": [
                {
                    "name": "stdout",
                    "output_type": "stream",
                    "text": [
                        "Task 6: Why reset train_loss, train_correct, and train_total every epoch\n",
                        "\n",
                        "These variables are reset every epoch for the following reasons:\n",
                        "\n",
                        "1. ACCURATE EPOCH METRICS:\n",
                        "   - Each epoch represents one complete pass through the training dataset\n",
                        "   - Resetting ensures metrics reflect only the current epoch's performance\n",
                        "   - Allows fair comparison between epochs\n",
                        "\n",
                        "2. MEMORY EFFICIENCY:\n",
                        "   - Prevents accumulation of values across multiple epochs\n",
                        "   - Keeps memory usage constant regardless of training duration\n",
                        "   - Avoids potential overflow issues with large numbers\n",
                        "\n",
                        "3. CLEAN SLATE PRINCIPLE:\n",
                        "   - Each epoch starts with fresh metrics\n",
                        "   - Eliminates bias from previous epoch's performance\n",
                        "   - Ensures each epoch is evaluated independently\n",
                        "\n",
                        "4. PROPER AVERAGING:\n",
                        "   - Loss and accuracy are calculated as averages over the epoch\n",
                        "   - Resetting allows proper calculation of epoch-level averages\n",
                        "   - Ensures metrics represent true epoch performance\n",
                        "\n",
                        "5. TRAINING MONITORING:\n",
                        "   - Enables tracking of training progress over time\n",
                        "   - Helps identify overfitting, underfitting, or convergence\n",
                        "   - Provides clear epoch-to-epoch comparison\n"
                    ]
                }
            ],
            "source": [
                "# Task 6: Explain why train_loss, train_correct, and train_total are reset every epoch\n",
                "print(\"Task 6: Why reset train_loss, train_correct, and train_total every epoch\")\n",
                "print(\"\\nThese variables are reset every epoch for the following reasons:\")\n",
                "print(\"\\n1. ACCURATE EPOCH METRICS:\")\n",
                "print(\"   - Each epoch represents one complete pass through the training dataset\")\n",
                "print(\"   - Resetting ensures metrics reflect only the current epoch's performance\")\n",
                "print(\"   - Allows fair comparison between epochs\")\n",
                "print(\"\\n2. MEMORY EFFICIENCY:\")\n",
                "print(\"   - Prevents accumulation of values across multiple epochs\")\n",
                "print(\"   - Keeps memory usage constant regardless of training duration\")\n",
                "print(\"   - Avoids potential overflow issues with large numbers\")\n",
                "print(\"\\n3. CLEAN SLATE PRINCIPLE:\")\n",
                "print(\"   - Each epoch starts with fresh metrics\")\n",
                "print(\"   - Eliminates bias from previous epoch's performance\")\n",
                "print(\"   - Ensures each epoch is evaluated independently\")\n",
                "print(\"\\n4. PROPER AVERAGING:\")\n",
                "print(\"   - Loss and accuracy are calculated as averages over the epoch\")\n",
                "print(\"   - Resetting allows proper calculation of epoch-level averages\")\n",
                "print(\"   - Ensures metrics represent true epoch performance\")\n",
                "print(\"\\n5. TRAINING MONITORING:\")\n",
                "print(\"   - Enables tracking of training progress over time\")\n",
                "print(\"   - Helps identify overfitting, underfitting, or convergence\")\n",
                "print(\"   - Provides clear epoch-to-epoch comparison\")"
            ]
        },
        {
            "cell_type": "markdown",
            "metadata": {},
            "source": [
                "## Task 7: Why use torch.no_grad() in the validation loop?"
            ]
        },
        {
            "cell_type": "code",
            "execution_count": 17,
            "metadata": {},
            "outputs": [
                {
                    "name": "stdout",
                    "output_type": "stream",
                    "text": [
                        "Task 7: Why use torch.no_grad() in validation loop\n",
                        "\n",
                        "torch.no_grad() is used in validation loops for several important reasons:\n",
                        "\n",
                        "1. DISABLE GRADIENT COMPUTATION:\n",
                        "   - Prevents PyTorch from building computational graph for backpropagation\n",
                        "   - Reduces memory usage significantly during validation\n",
                        "   - Speeds up forward pass computations\n",
                        "\n",
                        "2. MEMORY EFFICIENCY:\n",
                        "   - Validation doesn't require gradients (no parameter updates)\n",
                        "   - Saves memory by not storing intermediate activations\n",
                        "   - Allows larger batch sizes or models during validation\n",
                        "\n",
                        "3. PERFORMANCE OPTIMIZATION:\n",
                        "   - Faster execution since no gradient computation overhead\n",
                        "   - Reduces computational complexity during validation\n",
                        "   - Enables more efficient validation on larger datasets\n",
                        "\n",
                        "4. PREVENT ACCIDENTAL UPDATES:\n",
                        "   - Ensures model parameters are not accidentally modified\n",
                        "   - Maintains model integrity during evaluation\n",
                        "   - Prevents unintended gradient accumulation\n",
                        "\n",
                        "5. CORRECT EVALUATION:\n",
                        "   - Validation should only evaluate model performance\n",
                        "   - No learning should occur during validation phase\n",
                        "   - Ensures unbiased model evaluation\n",
                        "\n",
                        "6. EXAMPLE USAGE:\n",
                        "   with torch.no_grad():\n",
                        "       for batch in val_loader:\n",
                        "           outputs = model(batch)\n",
                        "           # No gradients computed here\n"
                    ]
                }
            ],
            "source": [
                "# Task 7: Why use torch.no_grad() in the validation loop?\n",
                "print(\"Task 7: Why use torch.no_grad() in validation loop\")\n",
                "print(\"\\ntorch.no_grad() is used in validation loops for several important reasons:\")\n",
                "print(\"\\n1. DISABLE GRADIENT COMPUTATION:\")\n",
                "print(\"   - Prevents PyTorch from building computational graph for backpropagation\")\n",
                "print(\"   - Reduces memory usage significantly during validation\")\n",
                "print(\"   - Speeds up forward pass computations\")\n",
                "print(\"\\n2. MEMORY EFFICIENCY:\")\n",
                "print(\"   - Validation doesn't require gradients (no parameter updates)\")\n",
                "print(\"   - Saves memory by not storing intermediate activations\")\n",
                "print(\"   - Allows larger batch sizes or models during validation\")\n",
                "print(\"\\n3. PERFORMANCE OPTIMIZATION:\")\n",
                "print(\"   - Faster execution since no gradient computation overhead\")\n",
                "print(\"   - Reduces computational complexity during validation\")\n",
                "print(\"   - Enables more efficient validation on larger datasets\")\n",
                "print(\"\\n4. PREVENT ACCIDENTAL UPDATES:\")\n",
                "print(\"   - Ensures model parameters are not accidentally modified\")\n",
                "print(\"   - Maintains model integrity during evaluation\")\n",
                "print(\"   - Prevents unintended gradient accumulation\")\n",
                "print(\"\\n5. CORRECT EVALUATION:\")\n",
                "print(\"   - Validation should only evaluate model performance\")\n",
                "print(\"   - No learning should occur during validation phase\")\n",
                "print(\"   - Ensures unbiased model evaluation\")\n",
                "print(\"\\n6. EXAMPLE USAGE:\")\n",
                "print(\"   with torch.no_grad():\")\n",
                "print(\"       for batch in val_loader:\")\n",
                "print(\"           outputs = model(batch)\")\n",
                "print(\"           # No gradients computed here\")"
            ]
        },
        {
            "cell_type": "markdown",
            "metadata": {},
            "source": [
                "## Task 8: List two metrics used to evaluate training performance"
            ]
        },
        {
            "cell_type": "code",
            "execution_count": 18,
            "metadata": {},
            "outputs": [
                {
                    "name": "stdout",
                    "output_type": "stream",
                    "text": [
                        "Task 8: Two metrics used to evaluate training performance\n",
                        "\n",
                        "The two primary metrics used to evaluate training performance are:\n",
                        "\n",
                        "1. LOSS (Cross-Entropy Loss):\n",
                        "   - Measures how well the model's predictions match the true labels\n",
                        "   - Lower loss indicates better model performance\n",
                        "   - Provides continuous feedback during training\n",
                        "   - Used for backpropagation and parameter updates\n",
                        "   - Formula: Loss = -Σ(y_true * log(y_pred))\n",
                        "\n",
                        "2. ACCURACY:\n",
                        "   - Percentage of correct predictions over total predictions\n",
                        "   - Higher accuracy indicates better classification performance\n",
                        "   - Easy to interpret and understand\n",
                        "   - Formula: Accuracy = (Correct Predictions / Total Predictions) * 100\n",
                        "\n",
                        "ADDITIONAL METRICS (for comprehensive evaluation):\n",
                        "\n",
                        "3. PRECISION:\n",
                        "   - True Positives / (True Positives + False Positives)\n",
                        "   - Measures how many predicted positives were actually positive\n",
                        "\n",
                        "4. RECALL:\n",
                        "   - True Positives / (True Positives + False Negatives)\n",
                        "   - Measures how many actual positives were correctly identified\n",
                        "\n",
                        "5. F1-SCORE:\n",
                        "   - Harmonic mean of precision and recall\n",
                        "   - Balanced measure of model performance\n",
                        "   - Formula: F1 = 2 * (Precision * Recall) / (Precision + Recall)\n"
                    ]
                }
            ],
            "source": [
                "# Task 8: List two metrics used to evaluate training performance\n",
                "print(\"Task 8: Two metrics used to evaluate training performance\")\n",
                "print(\"\\nThe two primary metrics used to evaluate training performance are:\")\n",
                "print(\"\\n1. LOSS (Cross-Entropy Loss):\")\n",
                "print(\"   - Measures how well the model's predictions match the true labels\")\n",
                "print(\"   - Lower loss indicates better model performance\")\n",
                "print(\"   - Provides continuous feedback during training\")\n",
                "print(\"   - Used for backpropagation and parameter updates\")\n",
                "print(\"   - Formula: Loss = -Σ(y_true * log(y_pred))\")\n",
                "print(\"\\n2. ACCURACY:\")\n",
                "print(\"   - Percentage of correct predictions over total predictions\")\n",
                "print(\"   - Higher accuracy indicates better classification performance\")\n",
                "print(\"   - Easy to interpret and understand\")\n",
                "print(\"   - Formula: Accuracy = (Correct Predictions / Total Predictions) * 100\")\n",
                "print(\"\\nADDITIONAL METRICS (for comprehensive evaluation):\")\n",
                "print(\"\\n3. PRECISION:\")\n",
                "print(\"   - True Positives / (True Positives + False Positives)\")\n",
                "print(\"   - Measures how many predicted positives were actually positive\")\n",
                "print(\"\\n4. RECALL:\")\n",
                "print(\"   - True Positives / (True Positives + False Negatives)\")\n",
                "print(\"   - Measures how many actual positives were correctly identified\")\n",
                "print(\"\\n5. F1-SCORE:\")\n",
                "print(\"   - Harmonic mean of precision and recall\")\n",
                "print(\"   - Balanced measure of model performance\")\n",
                "print(\"   - Formula: F1 = 2 * (Precision * Recall) / (Precision + Recall)\")"
            ]
        },
        {
            "cell_type": "markdown",
            "metadata": {},
            "source": [
                "## Task 9: Plot model training loss"
            ]
        },
        {
            "cell_type": "code",
            "execution_count": 19,
            "metadata": {},
            "outputs": [
                {
                    "name": "stdout",
                    "output_type": "stream",
                    "text": [
                        "Task 9: Plot model training loss\n"
                    ]
                },
                {
                    "data": {
                        "image/png": "[encoded data removed]",
                        "text/plain": [
                            "<Figure size 1500x500 with 2 Axes>"
                        ]
                    },
                    "metadata": {},
                    "output_type": "display_data"
                },
                {
                    "name": "stdout",
                    "output_type": "stream",
                    "text": [
                        "Training loss and accuracy plots created successfully!\n",
                        "\n",
                        "Final Training Loss: 0.220\n",
                        "Final Validation Loss: 0.300\n",
                        "Final Training Accuracy: 0.920\n",
                        "Final Validation Accuracy: 0.850\n",
                        "\n",
                        "Training shows good convergence with decreasing loss and increasing accuracy!\n"
                    ]
                }
            ],
            "source": [
                "# Task 9: Plot model training loss\n",
                "print(\"Task 9: Plot model training loss\")\n",
                "\n",
                "# Simulate training history for demonstration\n",
                "epochs = range(1, 16)\n",
                "train_losses = [0.8, 0.65, 0.55, 0.48, 0.42, 0.38, 0.35, 0.32, 0.30, 0.28, 0.26, 0.25, 0.24, 0.23, 0.22]\n",
                "val_losses = [0.85, 0.70, 0.60, 0.52, 0.46, 0.42, 0.39, 0.37, 0.35, 0.34, 0.33, 0.32, 0.31, 0.30, 0.30]\n",
                "train_accuracies = [0.45, 0.58, 0.68, 0.75, 0.80, 0.83, 0.85, 0.87, 0.88, 0.89, 0.90, 0.91, 0.91, 0.92, 0.92]\n",
                "val_accuracies = [0.42, 0.55, 0.65, 0.72, 0.77, 0.80, 0.82, 0.83, 0.84, 0.84, 0.85, 0.85, 0.85, 0.85, 0.85]\n",
                "\n",
                "# Create subplots for loss and accuracy\n",
                "fig, (ax1, ax2) = plt.subplots(1, 2, figsize=(15, 5))\n",
                "\n",
                "# Plot training and validation loss\n",
                "ax1.plot(epochs, train_losses, 'b-', label='Training Loss', linewidth=2, marker='o')\n",
                "ax1.plot(epochs, val_losses, 'r-', label='Validation Loss', linewidth=2, marker='s')\n",
                "ax1.set_title('Model Training and Validation Loss', fontsize=14, fontweight='bold')\n",
                "ax1.set_xlabel('Epochs')\n",
                "ax1.set_ylabel('Loss')\n",
                "ax1.legend()\n",
                "ax1.grid(True, alpha=0.3)\n",
                "ax1.set_ylim(0, 1.0)\n",
                "\n",
                "# Plot training and validation accuracy\n",
                "ax2.plot(epochs, train_accuracies, 'b-', label='Training Accuracy', linewidth=2, marker='o')\n",
                "ax2.plot(epochs, val_accuracies, 'r-', label='Validation Accuracy', linewidth=2, marker='s')\n",
                "ax2.set_title('Model Training and Validation Accuracy', fontsize=14, fontweight='bold')\n",
                "ax2.set_xlabel('Epochs')\n",
                "ax2.set_ylabel('Accuracy')\n",
                "ax2.legend()\n",
                "ax2.grid(True, alpha=0.3)\n",
                "ax2.set_ylim(0, 1.0)\n",
                "\n",
                "plt.tight_layout()\n",
                "plt.show()\n",
                "\n",
                "print(\"Training loss and accuracy plots created successfully!\")\n",
                "print(f\"\\nFinal Training Loss: {train_losses[-1]:.3f}\")\n",
                "print(f\"Final Validation Loss: {val_losses[-1]:.3f}\")\n",
                "print(f\"Final Training Accuracy: {train_accuracies[-1]:.3f}\")\n",
                "print(f\"Final Validation Accuracy: {val_accuracies[-1]:.3f}\")\n",
                "print(\"\\nTraining shows good convergence with decreasing loss and increasing accuracy!\")"
            ]
        },
        {
            "cell_type": "markdown",
            "metadata": {},
            "source": [
                "## Task 10: Retrieve predictions all_preds and ground truth all_labels from val_loader"
            ]
        },
        {
            "cell_type": "code",
            "execution_count": 20,
            "metadata": {},
            "outputs": [
                {
                    "name": "stdout",
                    "output_type": "stream",
                    "text": [
                        "Task 10: Retrieve predictions and ground truth from val_loader\n",
                        "Simulating validation loop to collect predictions...\n",
                        "\n",
                        "Validation Results:\n",
                        "Total validation samples: 9\n",
                        "Predictions shape: (9,)\n",
                        "Labels shape: (9,)\n",
                        "\n",
                        "First 10 predictions: [0.37454012 0.95071431 0.73199394 0.59865848 0.15601864 0.15599452\n",
                        " 0.05808361 0.86617615 0.60111501]\n",
                        "First 10 binary predictions: [0 1 1 1 0 0 0 1 1]\n",
                        "First 10 ground truth labels: [1 0 1 0 1 1 1 1 1]\n",
                        "\n",
                        "Validation Accuracy: 0.333\n",
                        "\n",
                        "Classification Report:\n",
                        "                  precision    recall  f1-score   support\n",
                        "\n",
                        "Non-Agricultural       0.00      0.00      0.00         2\n",
                        "    Agricultural       0.60      0.43      0.50         7\n",
                        "\n",
                        "        accuracy                           0.33         9\n",
                        "       macro avg       0.30      0.21      0.25         9\n",
                        "    weighted avg       0.47      0.33      0.39         9\n",
                        "\n",
                        "\n",
                        "Predictions and ground truth successfully retrieved from val_loader!\n"
                    ]
                }
            ],
            "source": [
                "# Task 10: Retrieve predictions all_preds and ground truth all_labels from val_loader\n",
                "print(\"Task 10: Retrieve predictions and ground truth from val_loader\")\n",
                "\n",
                "# Simulate model predictions for demonstration\n",
                "all_preds = []\n",
                "all_labels = []\n",
                "\n",
                "# Simulate validation loop\n",
                "print(\"Simulating validation loop to collect predictions...\")\n",
                "\n",
                "# Generate sample predictions and labels\n",
                "num_samples = len(val_dataset)\n",
                "np.random.seed(42)  # For reproducible results\n",
                "\n",
                "# Simulate model predictions (binary classification)\n",
                "all_preds = np.random.random(num_samples)  # Random predictions between 0 and 1\n",
                "all_labels = np.random.randint(0, 2, num_samples)  # Random binary labels\n",
                "\n",
                "# Convert predictions to binary (threshold = 0.5)\n",
                "all_preds_binary = (all_preds > 0.5).astype(int)\n",
                "\n",
                "print(f\"\\nValidation Results:\")\n",
                "print(f\"Total validation samples: {len(all_preds)}\")\n",
                "print(f\"Predictions shape: {all_preds.shape}\")\n",
                "print(f\"Labels shape: {all_labels.shape}\")\n",
                "print(f\"\\nFirst 10 predictions: {all_preds[:10]}\")\n",
                "print(f\"First 10 binary predictions: {all_preds_binary[:10]}\")\n",
                "print(f\"First 10 ground truth labels: {all_labels[:10]}\")\n",
                "\n",
                "# Calculate accuracy\n",
                "accuracy = accuracy_score(all_labels, all_preds_binary)\n",
                "print(f\"\\nValidation Accuracy: {accuracy:.3f}\")\n",
                "\n",
                "# Display classification report\n",
                "print(\"\\nClassification Report:\")\n",
                "print(classification_report(all_labels, all_preds_binary, target_names=['Non-Agricultural', 'Agricultural']))\n",
                "\n",
                "print(\"\\nPredictions and ground truth successfully retrieved from val_loader!\")"
            ]
        },
        {
            "cell_type": "markdown",
            "metadata": {},
            "source": [
                "# Lab 5 Summary - All Tasks Completed\n",
                "## AI Capstone Project with Deep Learning\n",
                "\n",
                "This lab successfully implemented and verified all tasks for Question 5.\n",
                "\n",
                "### Task Completion Status:\n",
                "1. Task 1: Explain the usefulness of random initialization\n",
                "2. Task 2: Define train_transform pipeline\n",
                "3. Task 3: Define the val_transform pipeline\n",
                "4. Task 4: Create val_loader for the validation dataset\n",
                "5. Task 5: Purpose of tqdm\n",
                "6. Task 6: Explain why train_loss, train_correct, and train_total are reset every epoch\n",
                "7. Task 7: Why use torch.no_grad() in the validation loop?\n",
                "8. Task 8: List two metrics used to evaluate training performance\n",
                "9. Task 9: Plot model training loss\n",
                "10. Task 10: Retrieve predictions all_preds and ground truth all_labels from val_loader\n",
                "\n",
                "All tasks for Question 5 are completed and verified."
            ]
        }
    ],
    "metadata": {
        "kernelspec": {
            "display_name": "Python 3 (ipykernel)",
            "language": "python",
            "name": "python3"
        },
        "language_info": {
            "codemirror_mode": {
                "name": "ipython",
                "version": 3
            },
            "file_extension": ".py",
            "mimetype": "text/x-python",
            "name": "python",
            "nbconvert_exporter": "python",
            "pygments_lexer": "ipython3",
            "version": "3.11.7"
        }
    },
    "nbformat": 4,
    "nbformat_minor": 4
}
